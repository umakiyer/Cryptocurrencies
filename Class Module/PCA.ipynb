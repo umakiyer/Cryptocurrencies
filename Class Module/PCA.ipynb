{
 "cells": [
  {
   "cell_type": "code",
   "execution_count": 27,
   "id": "d28a64d0",
   "metadata": {},
   "outputs": [],
   "source": [
    "import pandas as pd\n",
    "from sklearn.preprocessing import StandardScaler\n",
    "from sklearn.decomposition import PCA\n",
    "from sklearn.cluster import KMeans\n",
    "import hvplot.pandas"
   ]
  },
  {
   "cell_type": "code",
   "execution_count": 28,
   "id": "7f85133b",
   "metadata": {},
   "outputs": [
    {
     "data": {
      "text/html": [
       "<div>\n",
       "<style scoped>\n",
       "    .dataframe tbody tr th:only-of-type {\n",
       "        vertical-align: middle;\n",
       "    }\n",
       "\n",
       "    .dataframe tbody tr th {\n",
       "        vertical-align: top;\n",
       "    }\n",
       "\n",
       "    .dataframe thead th {\n",
       "        text-align: right;\n",
       "    }\n",
       "</style>\n",
       "<table border=\"1\" class=\"dataframe\">\n",
       "  <thead>\n",
       "    <tr style=\"text-align: right;\">\n",
       "      <th></th>\n",
       "      <th>sepal_length</th>\n",
       "      <th>petal_length</th>\n",
       "      <th>sepal_width</th>\n",
       "      <th>petal_width</th>\n",
       "    </tr>\n",
       "  </thead>\n",
       "  <tbody>\n",
       "    <tr>\n",
       "      <th>0</th>\n",
       "      <td>5.1</td>\n",
       "      <td>1.4</td>\n",
       "      <td>3.5</td>\n",
       "      <td>0.2</td>\n",
       "    </tr>\n",
       "    <tr>\n",
       "      <th>1</th>\n",
       "      <td>4.9</td>\n",
       "      <td>1.4</td>\n",
       "      <td>3.0</td>\n",
       "      <td>0.2</td>\n",
       "    </tr>\n",
       "    <tr>\n",
       "      <th>2</th>\n",
       "      <td>4.7</td>\n",
       "      <td>1.3</td>\n",
       "      <td>3.2</td>\n",
       "      <td>0.2</td>\n",
       "    </tr>\n",
       "    <tr>\n",
       "      <th>3</th>\n",
       "      <td>4.6</td>\n",
       "      <td>1.5</td>\n",
       "      <td>3.1</td>\n",
       "      <td>0.2</td>\n",
       "    </tr>\n",
       "    <tr>\n",
       "      <th>4</th>\n",
       "      <td>5.0</td>\n",
       "      <td>1.4</td>\n",
       "      <td>3.6</td>\n",
       "      <td>0.2</td>\n",
       "    </tr>\n",
       "  </tbody>\n",
       "</table>\n",
       "</div>"
      ],
      "text/plain": [
       "   sepal_length  petal_length  sepal_width  petal_width\n",
       "0           5.1           1.4          3.5          0.2\n",
       "1           4.9           1.4          3.0          0.2\n",
       "2           4.7           1.3          3.2          0.2\n",
       "3           4.6           1.5          3.1          0.2\n",
       "4           5.0           1.4          3.6          0.2"
      ]
     },
     "execution_count": 28,
     "metadata": {},
     "output_type": "execute_result"
    }
   ],
   "source": [
    "#Load the data\n",
    "file_path=\"Resources/new_iris_data.csv\"\n",
    "df_iris= pd.read_csv(file_path)\n",
    "df_iris.head()"
   ]
  },
  {
   "cell_type": "code",
   "execution_count": 29,
   "id": "58cd5af5",
   "metadata": {},
   "outputs": [
    {
     "name": "stdout",
     "output_type": "stream",
     "text": [
      "[[-0.90068117 -1.3412724   1.03205722 -1.31297673]\n",
      " [-1.14301691 -1.3412724  -0.1249576  -1.31297673]\n",
      " [-1.38535265 -1.39813811  0.33784833 -1.31297673]\n",
      " [-1.50652052 -1.2844067   0.10644536 -1.31297673]\n",
      " [-1.02184904 -1.3412724   1.26346019 -1.31297673]]\n"
     ]
    }
   ],
   "source": [
    "iris_scaled= StandardScaler().fit_transform(df_iris)\n",
    "print(iris_scaled[0:5])"
   ]
  },
  {
   "cell_type": "code",
   "execution_count": 30,
   "id": "92bb4827",
   "metadata": {},
   "outputs": [],
   "source": [
    "# Initialize PCA 4-2 features\n",
    "pca=PCA(n_components=2)"
   ]
  },
  {
   "cell_type": "code",
   "execution_count": 31,
   "id": "cdee0e62",
   "metadata": {},
   "outputs": [
    {
     "name": "stdout",
     "output_type": "stream",
     "text": [
      "[[-2.26454173  0.5057039 ]\n",
      " [-2.0864255  -0.65540473]\n",
      " [-2.36795045 -0.31847731]\n",
      " [-2.30419716 -0.57536771]\n",
      " [-2.38877749  0.6747674 ]]\n"
     ]
    }
   ],
   "source": [
    "# Get 2 components for the Iris Data\n",
    "iris_pca=pca.fit_transform(iris_scaled)\n",
    "print(iris_pca[0:5])"
   ]
  },
  {
   "cell_type": "code",
   "execution_count": 32,
   "id": "60c64922",
   "metadata": {},
   "outputs": [
    {
     "data": {
      "text/html": [
       "<div>\n",
       "<style scoped>\n",
       "    .dataframe tbody tr th:only-of-type {\n",
       "        vertical-align: middle;\n",
       "    }\n",
       "\n",
       "    .dataframe tbody tr th {\n",
       "        vertical-align: top;\n",
       "    }\n",
       "\n",
       "    .dataframe thead th {\n",
       "        text-align: right;\n",
       "    }\n",
       "</style>\n",
       "<table border=\"1\" class=\"dataframe\">\n",
       "  <thead>\n",
       "    <tr style=\"text-align: right;\">\n",
       "      <th></th>\n",
       "      <th>principal Component 1</th>\n",
       "      <th>principal component 2</th>\n",
       "    </tr>\n",
       "  </thead>\n",
       "  <tbody>\n",
       "    <tr>\n",
       "      <th>0</th>\n",
       "      <td>-2.264542</td>\n",
       "      <td>0.505704</td>\n",
       "    </tr>\n",
       "    <tr>\n",
       "      <th>1</th>\n",
       "      <td>-2.086426</td>\n",
       "      <td>-0.655405</td>\n",
       "    </tr>\n",
       "    <tr>\n",
       "      <th>2</th>\n",
       "      <td>-2.367950</td>\n",
       "      <td>-0.318477</td>\n",
       "    </tr>\n",
       "    <tr>\n",
       "      <th>3</th>\n",
       "      <td>-2.304197</td>\n",
       "      <td>-0.575368</td>\n",
       "    </tr>\n",
       "    <tr>\n",
       "      <th>4</th>\n",
       "      <td>-2.388777</td>\n",
       "      <td>0.674767</td>\n",
       "    </tr>\n",
       "  </tbody>\n",
       "</table>\n",
       "</div>"
      ],
      "text/plain": [
       "   principal Component 1  principal component 2\n",
       "0              -2.264542               0.505704\n",
       "1              -2.086426              -0.655405\n",
       "2              -2.367950              -0.318477\n",
       "3              -2.304197              -0.575368\n",
       "4              -2.388777               0.674767"
      ]
     },
     "execution_count": 32,
     "metadata": {},
     "output_type": "execute_result"
    }
   ],
   "source": [
    "# Transform PCA to DataFrame\n",
    "df_iris_pca= pd.DataFrame(data=iris_pca, columns=['principal Component 1', 'principal component 2'])\n",
    "df_iris_pca.head()"
   ]
  },
  {
   "cell_type": "code",
   "execution_count": 33,
   "id": "c0141139",
   "metadata": {},
   "outputs": [
    {
     "data": {
      "text/plain": [
       "array([0.72770452, 0.23030523])"
      ]
     },
     "execution_count": 33,
     "metadata": {},
     "output_type": "execute_result"
    }
   ],
   "source": [
    "# Fetch the explaines variance\n",
    "pca.explained_variance_ratio_"
   ]
  },
  {
   "cell_type": "code",
   "execution_count": 34,
   "id": "0ee9667b",
   "metadata": {},
   "outputs": [
    {
     "name": "stderr",
     "output_type": "stream",
     "text": [
      "C:\\Users\\Public\\Anaconda3\\envs\\mlenv\\lib\\site-packages\\sklearn\\cluster\\_kmeans.py:882: UserWarning: KMeans is known to have a memory leak on Windows with MKL, when there are less chunks than available threads. You can avoid it by setting the environment variable OMP_NUM_THREADS=1.\n",
      "  f\"KMeans is known to have a memory leak on Windows \"\n"
     ]
    },
    {
     "data": {},
     "metadata": {},
     "output_type": "display_data"
    },
    {
     "data": {
      "application/vnd.holoviews_exec.v0+json": "",
      "text/html": [
       "<div id='1238'>\n",
       "\n",
       "\n",
       "\n",
       "\n",
       "\n",
       "  <div class=\"bk-root\" id=\"34d56951-bbdd-4d55-a70c-67426c13545b\" data-root-id=\"1238\"></div>\n",
       "</div>\n",
       "<script type=\"application/javascript\">(function(root) {\n",
       "  function embed_document(root) {\n",
       "    var docs_json = {\"de53bd8e-6252-4b09-a7b3-02bd7823c82f\":{\"defs\":[{\"extends\":null,\"module\":null,\"name\":\"ReactiveHTML1\",\"overrides\":[],\"properties\":[]},{\"extends\":null,\"module\":null,\"name\":\"FlexBox1\",\"overrides\":[],\"properties\":[{\"default\":\"flex-start\",\"kind\":null,\"name\":\"align_content\"},{\"default\":\"flex-start\",\"kind\":null,\"name\":\"align_items\"},{\"default\":\"row\",\"kind\":null,\"name\":\"flex_direction\"},{\"default\":\"wrap\",\"kind\":null,\"name\":\"flex_wrap\"},{\"default\":\"flex-start\",\"kind\":null,\"name\":\"justify_content\"}]},{\"extends\":null,\"module\":null,\"name\":\"TemplateActions1\",\"overrides\":[],\"properties\":[{\"default\":0,\"kind\":null,\"name\":\"open_modal\"},{\"default\":0,\"kind\":null,\"name\":\"close_modal\"}]},{\"extends\":null,\"module\":null,\"name\":\"MaterialTemplateActions1\",\"overrides\":[],\"properties\":[{\"default\":0,\"kind\":null,\"name\":\"open_modal\"},{\"default\":0,\"kind\":null,\"name\":\"close_modal\"}]}],\"roots\":{\"references\":[{\"attributes\":{\"end\":629.069101918009,\"reset_end\":629.069101918009,\"reset_start\":-22.08989507139585,\"start\":-22.08989507139585,\"tags\":[[[\"inertia\",\"inertia\",null]]]},\"id\":\"1241\",\"type\":\"Range1d\"},{\"attributes\":{},\"id\":\"1260\",\"type\":\"SaveTool\"},{\"attributes\":{},\"id\":\"1261\",\"type\":\"PanTool\"},{\"attributes\":{\"source\":{\"id\":\"1273\"}},\"id\":\"1280\",\"type\":\"CDSView\"},{\"attributes\":{},\"id\":\"1264\",\"type\":\"ResetTool\"},{\"attributes\":{},\"id\":\"1262\",\"type\":\"WheelZoomTool\"},{\"attributes\":{},\"id\":\"1289\",\"type\":\"BasicTickFormatter\"},{\"attributes\":{\"line_color\":\"#30a2da\",\"line_width\":2,\"x\":{\"field\":\"k\"},\"y\":{\"field\":\"inertia\"}},\"id\":\"1276\",\"type\":\"Line\"},{\"attributes\":{\"overlay\":{\"id\":\"1265\"}},\"id\":\"1263\",\"type\":\"BoxZoomTool\"},{\"attributes\":{\"margin\":[5,5,5,5],\"name\":\"HSpacer02028\",\"sizing_mode\":\"stretch_width\"},\"id\":\"1309\",\"type\":\"Spacer\"},{\"attributes\":{\"line_color\":\"#30a2da\",\"line_width\":2,\"x\":{\"field\":\"k\"},\"y\":{\"field\":\"inertia\"}},\"id\":\"1281\",\"type\":\"Line\"},{\"attributes\":{},\"id\":\"1297\",\"type\":\"UnionRenderers\"},{\"attributes\":{},\"id\":\"1248\",\"type\":\"LinearScale\"},{\"attributes\":{\"coordinates\":null,\"group\":null,\"text\":\"Elbow Curve\",\"text_color\":\"black\",\"text_font_size\":\"12pt\"},\"id\":\"1244\",\"type\":\"Title\"},{\"attributes\":{\"axis\":{\"id\":\"1252\"},\"coordinates\":null,\"grid_line_color\":null,\"group\":null,\"ticker\":null},\"id\":\"1255\",\"type\":\"Grid\"},{\"attributes\":{\"ticks\":[1,2,3,4,5,6,7,8,9]},\"id\":\"1282\",\"type\":\"FixedTicker\"},{\"attributes\":{\"tools\":[{\"id\":\"1242\"},{\"id\":\"1260\"},{\"id\":\"1261\"},{\"id\":\"1262\"},{\"id\":\"1263\"},{\"id\":\"1264\"}]},\"id\":\"1266\",\"type\":\"Toolbar\"},{\"attributes\":{},\"id\":\"1250\",\"type\":\"LinearScale\"},{\"attributes\":{\"axis_label\":\"inertia\",\"coordinates\":null,\"formatter\":{\"id\":\"1289\"},\"group\":null,\"major_label_policy\":{\"id\":\"1290\"},\"ticker\":{\"id\":\"1257\"}},\"id\":\"1256\",\"type\":\"LinearAxis\"},{\"attributes\":{\"axis_label\":\"k\",\"coordinates\":null,\"formatter\":{\"id\":\"1284\"},\"group\":null,\"major_label_policy\":{\"id\":\"1285\"},\"ticker\":{\"id\":\"1282\"}},\"id\":\"1252\",\"type\":\"LinearAxis\"},{\"attributes\":{\"bottom_units\":\"screen\",\"coordinates\":null,\"fill_alpha\":0.5,\"fill_color\":\"lightgrey\",\"group\":null,\"left_units\":\"screen\",\"level\":\"overlay\",\"line_alpha\":1.0,\"line_color\":\"black\",\"line_dash\":[4,4],\"line_width\":2,\"right_units\":\"screen\",\"syncable\":false,\"top_units\":\"screen\"},\"id\":\"1265\",\"type\":\"BoxAnnotation\"},{\"attributes\":{},\"id\":\"1290\",\"type\":\"AllLabels\"},{\"attributes\":{},\"id\":\"1274\",\"type\":\"Selection\"},{\"attributes\":{\"below\":[{\"id\":\"1252\"}],\"center\":[{\"id\":\"1255\"},{\"id\":\"1259\"}],\"height\":300,\"left\":[{\"id\":\"1256\"}],\"margin\":[5,5,5,5],\"min_border_bottom\":10,\"min_border_left\":10,\"min_border_right\":10,\"min_border_top\":10,\"renderers\":[{\"id\":\"1279\"}],\"sizing_mode\":\"fixed\",\"title\":{\"id\":\"1244\"},\"toolbar\":{\"id\":\"1266\"},\"width\":700,\"x_range\":{\"id\":\"1240\"},\"x_scale\":{\"id\":\"1248\"},\"y_range\":{\"id\":\"1241\"},\"y_scale\":{\"id\":\"1250\"}},\"id\":\"1243\",\"subtype\":\"Figure\",\"type\":\"Plot\"},{\"attributes\":{\"coordinates\":null,\"data_source\":{\"id\":\"1273\"},\"glyph\":{\"id\":\"1276\"},\"group\":null,\"hover_glyph\":null,\"muted_glyph\":{\"id\":\"1278\"},\"nonselection_glyph\":{\"id\":\"1277\"},\"selection_glyph\":{\"id\":\"1281\"},\"view\":{\"id\":\"1280\"}},\"id\":\"1279\",\"type\":\"GlyphRenderer\"},{\"attributes\":{\"axis\":{\"id\":\"1256\"},\"coordinates\":null,\"dimension\":1,\"grid_line_color\":null,\"group\":null,\"ticker\":null},\"id\":\"1259\",\"type\":\"Grid\"},{\"attributes\":{\"margin\":[5,5,5,5],\"name\":\"HSpacer02027\",\"sizing_mode\":\"stretch_width\"},\"id\":\"1239\",\"type\":\"Spacer\"},{\"attributes\":{},\"id\":\"1284\",\"type\":\"BasicTickFormatter\"},{\"attributes\":{\"end\":9.0,\"reset_end\":9.0,\"reset_start\":1.0,\"start\":1.0,\"tags\":[[[\"k\",\"k\",null]]]},\"id\":\"1240\",\"type\":\"Range1d\"},{\"attributes\":{\"line_alpha\":0.1,\"line_color\":\"#30a2da\",\"line_width\":2,\"x\":{\"field\":\"k\"},\"y\":{\"field\":\"inertia\"}},\"id\":\"1277\",\"type\":\"Line\"},{\"attributes\":{},\"id\":\"1257\",\"type\":\"BasicTicker\"},{\"attributes\":{\"data\":{\"inertia\":{\"__ndarray__\":\"aTafYnL2gUAvbWBmntZoQKSmqsr9Bl1AUfWgT6xnVkDh0qR94pNQQA8zFtg6gkxALolQDTvuR0D6MOcNVaJDQOu1b3wwFkBA\",\"dtype\":\"float64\",\"order\":\"little\",\"shape\":[9]},\"k\":[1,2,3,4,5,6,7,8,9]},\"selected\":{\"id\":\"1274\"},\"selection_policy\":{\"id\":\"1297\"}},\"id\":\"1273\",\"type\":\"ColumnDataSource\"},{\"attributes\":{},\"id\":\"1285\",\"type\":\"AllLabels\"},{\"attributes\":{\"line_alpha\":0.2,\"line_color\":\"#30a2da\",\"line_width\":2,\"x\":{\"field\":\"k\"},\"y\":{\"field\":\"inertia\"}},\"id\":\"1278\",\"type\":\"Line\"},{\"attributes\":{\"callback\":null,\"renderers\":[{\"id\":\"1279\"}],\"tags\":[\"hv_created\"],\"tooltips\":[[\"k\",\"@{k}\"],[\"inertia\",\"@{inertia}\"]]},\"id\":\"1242\",\"type\":\"HoverTool\"},{\"attributes\":{\"children\":[{\"id\":\"1239\"},{\"id\":\"1243\"},{\"id\":\"1309\"}],\"margin\":[0,0,0,0],\"name\":\"Row02023\",\"tags\":[\"embedded\"]},\"id\":\"1238\",\"type\":\"Row\"}],\"root_ids\":[\"1238\"]},\"title\":\"Bokeh Application\",\"version\":\"2.4.1\"}};\n",
       "    var render_items = [{\"docid\":\"de53bd8e-6252-4b09-a7b3-02bd7823c82f\",\"root_ids\":[\"1238\"],\"roots\":{\"1238\":\"34d56951-bbdd-4d55-a70c-67426c13545b\"}}];\n",
       "    root.Bokeh.embed.embed_items_notebook(docs_json, render_items);\n",
       "  }\n",
       "  if (root.Bokeh !== undefined && root.Bokeh.Panel !== undefined) {\n",
       "    embed_document(root);\n",
       "  } else {\n",
       "    var attempts = 0;\n",
       "    var timer = setInterval(function(root) {\n",
       "      if (root.Bokeh !== undefined && root.Bokeh.Panel !== undefined) {\n",
       "        clearInterval(timer);\n",
       "        embed_document(root);\n",
       "      } else if (document.readyState == \"complete\") {\n",
       "        attempts++;\n",
       "        if (attempts > 200) {\n",
       "          clearInterval(timer);\n",
       "          console.log(\"Bokeh: ERROR: Unable to run BokehJS code because BokehJS library is missing\");\n",
       "        }\n",
       "      }\n",
       "    }, 25, root)\n",
       "  }\n",
       "})(window);</script>"
      ],
      "text/plain": [
       ":Curve   [k]   (inertia)"
      ]
     },
     "execution_count": 34,
     "metadata": {
      "application/vnd.holoviews_exec.v0+json": {
       "id": "1238"
      }
     },
     "output_type": "execute_result"
    }
   ],
   "source": [
    "# Find teh best value for K\n",
    "inertia=[]\n",
    "k=list(range(1,10))\n",
    "\n",
    "# Calculate the inertia for the range of k values\n",
    "for i in k :\n",
    "    km=KMeans(n_clusters=i,random_state=0)\n",
    "    km.fit(df_iris_pca)\n",
    "    inertia.append(km.inertia_)\n",
    "    \n",
    "# Create elbow Curve\n",
    "elbow_data= {\"k\": k, \"inertia\": inertia}\n",
    "df_elbow= pd.DataFrame(elbow_data)\n",
    "df_elbow.hvplot.line(x=\"k\", y=\"inertia\", xticks=k, title=\"Elbow Curve\")"
   ]
  },
  {
   "cell_type": "code",
   "execution_count": 35,
   "id": "bb4d65de",
   "metadata": {},
   "outputs": [
    {
     "data": {
      "text/html": [
       "<div>\n",
       "<style scoped>\n",
       "    .dataframe tbody tr th:only-of-type {\n",
       "        vertical-align: middle;\n",
       "    }\n",
       "\n",
       "    .dataframe tbody tr th {\n",
       "        vertical-align: top;\n",
       "    }\n",
       "\n",
       "    .dataframe thead th {\n",
       "        text-align: right;\n",
       "    }\n",
       "</style>\n",
       "<table border=\"1\" class=\"dataframe\">\n",
       "  <thead>\n",
       "    <tr style=\"text-align: right;\">\n",
       "      <th></th>\n",
       "      <th>principal Component 1</th>\n",
       "      <th>principal component 2</th>\n",
       "      <th>class</th>\n",
       "    </tr>\n",
       "  </thead>\n",
       "  <tbody>\n",
       "    <tr>\n",
       "      <th>0</th>\n",
       "      <td>-2.264542</td>\n",
       "      <td>0.505704</td>\n",
       "      <td>0</td>\n",
       "    </tr>\n",
       "    <tr>\n",
       "      <th>1</th>\n",
       "      <td>-2.086426</td>\n",
       "      <td>-0.655405</td>\n",
       "      <td>0</td>\n",
       "    </tr>\n",
       "    <tr>\n",
       "      <th>2</th>\n",
       "      <td>-2.367950</td>\n",
       "      <td>-0.318477</td>\n",
       "      <td>0</td>\n",
       "    </tr>\n",
       "    <tr>\n",
       "      <th>3</th>\n",
       "      <td>-2.304197</td>\n",
       "      <td>-0.575368</td>\n",
       "      <td>0</td>\n",
       "    </tr>\n",
       "    <tr>\n",
       "      <th>4</th>\n",
       "      <td>-2.388777</td>\n",
       "      <td>0.674767</td>\n",
       "      <td>0</td>\n",
       "    </tr>\n",
       "  </tbody>\n",
       "</table>\n",
       "</div>"
      ],
      "text/plain": [
       "   principal Component 1  principal component 2  class\n",
       "0              -2.264542               0.505704      0\n",
       "1              -2.086426              -0.655405      0\n",
       "2              -2.367950              -0.318477      0\n",
       "3              -2.304197              -0.575368      0\n",
       "4              -2.388777               0.674767      0"
      ]
     },
     "execution_count": 35,
     "metadata": {},
     "output_type": "execute_result"
    }
   ],
   "source": [
    "# Initialize the K-Means model\n",
    "model=KMeans(n_clusters=3, random_state=0)\n",
    "\n",
    "# fit the model\n",
    "model.fit(df_iris_pca)\n",
    "\n",
    "# predict clusters\n",
    "predictions= model.predict(df_iris_pca)\n",
    "\n",
    "# add the new coulns of clusters\n",
    "df_iris_pca[\"class\"]= model.labels_\n",
    "df_iris_pca.head()"
   ]
  },
  {
   "cell_type": "code",
   "execution_count": 38,
   "id": "ff5f2836",
   "metadata": {},
   "outputs": [
    {
     "data": {},
     "metadata": {},
     "output_type": "display_data"
    },
    {
     "data": {
      "application/vnd.holoviews_exec.v0+json": "",
      "text/html": [
       "<div id='1356'>\n",
       "\n",
       "\n",
       "\n",
       "\n",
       "\n",
       "  <div class=\"bk-root\" id=\"e9e9575e-57ce-4e11-b7cf-029fe792f22b\" data-root-id=\"1356\"></div>\n",
       "</div>\n",
       "<script type=\"application/javascript\">(function(root) {\n",
       "  function embed_document(root) {\n",
       "    var docs_json = {\"49cb204e-2a81-45b7-92bf-62e87e0afeb0\":{\"defs\":[{\"extends\":null,\"module\":null,\"name\":\"ReactiveHTML1\",\"overrides\":[],\"properties\":[]},{\"extends\":null,\"module\":null,\"name\":\"FlexBox1\",\"overrides\":[],\"properties\":[{\"default\":\"flex-start\",\"kind\":null,\"name\":\"align_content\"},{\"default\":\"flex-start\",\"kind\":null,\"name\":\"align_items\"},{\"default\":\"row\",\"kind\":null,\"name\":\"flex_direction\"},{\"default\":\"wrap\",\"kind\":null,\"name\":\"flex_wrap\"},{\"default\":\"flex-start\",\"kind\":null,\"name\":\"justify_content\"}]},{\"extends\":null,\"module\":null,\"name\":\"TemplateActions1\",\"overrides\":[],\"properties\":[{\"default\":0,\"kind\":null,\"name\":\"open_modal\"},{\"default\":0,\"kind\":null,\"name\":\"close_modal\"}]},{\"extends\":null,\"module\":null,\"name\":\"MaterialTemplateActions1\",\"overrides\":[],\"properties\":[{\"default\":0,\"kind\":null,\"name\":\"open_modal\"},{\"default\":0,\"kind\":null,\"name\":\"close_modal\"}]}],\"roots\":{\"references\":[{\"attributes\":{\"tools\":[{\"id\":\"1360\"},{\"id\":\"1380\"},{\"id\":\"1381\"},{\"id\":\"1382\"},{\"id\":\"1383\"},{\"id\":\"1384\"}]},\"id\":\"1386\",\"type\":\"Toolbar\"},{\"attributes\":{\"fill_alpha\":{\"value\":0.2},\"fill_color\":{\"value\":\"#30a2da\"},\"hatch_alpha\":{\"value\":0.2},\"hatch_color\":{\"value\":\"#30a2da\"},\"line_alpha\":{\"value\":0.2},\"line_color\":{\"value\":\"#30a2da\"},\"size\":{\"value\":5.477225575051661},\"x\":{\"field\":\"principal Component 1\"},\"y\":{\"field\":\"principal component 2\"}},\"id\":\"1404\",\"type\":\"Scatter\"},{\"attributes\":{\"data\":{\"class\":{\"__ndarray__\":\"AQAAAAEAAAABAAAAAQAAAAEAAAABAAAAAQAAAAEAAAABAAAAAQAAAAEAAAABAAAAAQAAAAEAAAABAAAAAQAAAAEAAAABAAAAAQAAAAEAAAABAAAAAQAAAAEAAAABAAAAAQAAAAEAAAABAAAAAQAAAAEAAAABAAAAAQAAAAEAAAABAAAAAQAAAAEAAAABAAAAAQAAAAEAAAABAAAAAQAAAAEAAAABAAAAAQAAAAEAAAABAAAAAQAAAAEAAAABAAAAAQAAAAEAAAABAAAAAQAAAAEAAAA=\",\"dtype\":\"int32\",\"order\":\"little\",\"shape\":[53]},\"principal Component 1\":{\"__ndarray__\":\"eRWMhntt2T9KnJZFWCnxP2eBHlf2mtg/+v4dZv7c3790GywXnaPtPyrAkDZaWXQ/IN6FPizsv7+wz+h8JxTcP1VNsk78puE/OUUqJwTz5j/Nz63ghxOjv5Vu06S8RdY/2bIv7V2iwz9n6iTH4XHzPyLYZACmFsQ/Wa1SDE473j8RyjX41qXzP4sxy7fjI+Q/HNCK7kVq5j8fhVUnIzDlP+Qb1FJINai/ND98rN0cvz9yj1g5BOqMPxnf6GWaNc4/Ds1ZRTXo8D+XsJMoZVfMP9Cbvwf1kvA/o14TnFcrsT9yNwN1kKDRP8Z9yQ7wbdE/pY3+VwPx4z+y3kvRzh7VP9TEFNWD6de/0STllsIb0j8uX21EL8y2PwEkQhu5t8w/9ARG5kBd4j/ijFDrsj/dv96A0gDGJNA/3l8IKHdz8j/soUp+m+/WP1r35HGkDPQ/HOKIxsts9z/9RPpdThD0P41itwdQKu8/9YqkmmBE9T9jfP3wHsDyP+D2a9zEx/E/KDazatUo8z+ZvvFQw4ztP95fCCh3c/I/SdVbMZXv+D852SvtkrLuPw==\",\"dtype\":\"float64\",\"order\":\"little\",\"shape\":[53]},\"principal component 2\":{\"__ndarray__\":\"kM0hw3Uh/L+VAFcJ4hrLv+0VlNb76eK/YZSza/eU/b/Yi2FUCw+fP+XLA01tePC/8oKEXbZDBcCq9gYTsCWuv0vNqHx+XPy/0nstxk+8x78sLLY26rLbv/u9JkVKZsi/kInUeJ9N6b9l5T6HOSL6v7tAi9CC2fS/tAipiLWp2r9Fr8dW+Rvuv+HFU70Krdq/ITfCViNBsL9dGdg+X7fMv2gFEZBX6vC/acJ8cXkE+b9s1i92nSz5v0OekB1e1Oi/Cy0SzX5h5L9ubj2aaPnRv7yLs++KR/a/gcdo/yc3y78+ZwsN7Ub1vyQJ/oM76fG/AMYd1SI0nD9l68QlE6Xvv83C5Ku5JADAoUs7dJBT67+djkY+Z2PGv0r2R1TcWdi/gzq1mhitw7+1+86JpaH4v6N6HI5KEeO/SAhbdkNx5r87lg29Jfb4v44xaImirfK/pq9g7els3L9OKnQyOXv7v0DNWXwPR+K/Q2wdsBUn37/E2YlbzWjUv/mTgLFv8dK/Ra/b9jwm6r99AFtSILGTP0gIW3ZDcea/wVrVOlT47L/oCSw2mtGWvw==\",\"dtype\":\"float64\",\"order\":\"little\",\"shape\":[53]},\"principal_Component_1\":{\"__ndarray__\":\"eRWMhntt2T9KnJZFWCnxP2eBHlf2mtg/+v4dZv7c3790GywXnaPtPyrAkDZaWXQ/IN6FPizsv7+wz+h8JxTcP1VNsk78puE/OUUqJwTz5j/Nz63ghxOjv5Vu06S8RdY/2bIv7V2iwz9n6iTH4XHzPyLYZACmFsQ/Wa1SDE473j8RyjX41qXzP4sxy7fjI+Q/HNCK7kVq5j8fhVUnIzDlP+Qb1FJINai/ND98rN0cvz9yj1g5BOqMPxnf6GWaNc4/Ds1ZRTXo8D+XsJMoZVfMP9Cbvwf1kvA/o14TnFcrsT9yNwN1kKDRP8Z9yQ7wbdE/pY3+VwPx4z+y3kvRzh7VP9TEFNWD6de/0STllsIb0j8uX21EL8y2PwEkQhu5t8w/9ARG5kBd4j/ijFDrsj/dv96A0gDGJNA/3l8IKHdz8j/soUp+m+/WP1r35HGkDPQ/HOKIxsts9z/9RPpdThD0P41itwdQKu8/9YqkmmBE9T9jfP3wHsDyP+D2a9zEx/E/KDazatUo8z+ZvvFQw4ztP95fCCh3c/I/SdVbMZXv+D852SvtkrLuPw==\",\"dtype\":\"float64\",\"order\":\"little\",\"shape\":[53]},\"principal_component_2\":{\"__ndarray__\":\"kM0hw3Uh/L+VAFcJ4hrLv+0VlNb76eK/YZSza/eU/b/Yi2FUCw+fP+XLA01tePC/8oKEXbZDBcCq9gYTsCWuv0vNqHx+XPy/0nstxk+8x78sLLY26rLbv/u9JkVKZsi/kInUeJ9N6b9l5T6HOSL6v7tAi9CC2fS/tAipiLWp2r9Fr8dW+Rvuv+HFU70Krdq/ITfCViNBsL9dGdg+X7fMv2gFEZBX6vC/acJ8cXkE+b9s1i92nSz5v0OekB1e1Oi/Cy0SzX5h5L9ubj2aaPnRv7yLs++KR/a/gcdo/yc3y78+ZwsN7Ub1vyQJ/oM76fG/AMYd1SI0nD9l68QlE6Xvv83C5Ku5JADAoUs7dJBT67+djkY+Z2PGv0r2R1TcWdi/gzq1mhitw7+1+86JpaH4v6N6HI5KEeO/SAhbdkNx5r87lg29Jfb4v44xaImirfK/pq9g7els3L9OKnQyOXv7v0DNWXwPR+K/Q2wdsBUn37/E2YlbzWjUv/mTgLFv8dK/Ra/b9jwm6r99AFtSILGTP0gIW3ZDcea/wVrVOlT47L/oCSw2mtGWvw==\",\"dtype\":\"float64\",\"order\":\"little\",\"shape\":[53]}},\"selected\":{\"id\":\"1421\"},\"selection_policy\":{\"id\":\"1437\"}},\"id\":\"1420\",\"type\":\"ColumnDataSource\"},{\"attributes\":{},\"id\":\"1370\",\"type\":\"LinearScale\"},{\"attributes\":{\"label\":{\"value\":\"0\"},\"renderers\":[{\"id\":\"1405\"}]},\"id\":\"1418\",\"type\":\"LegendItem\"},{\"attributes\":{\"axis_label\":\"principal component 2\",\"coordinates\":null,\"formatter\":{\"id\":\"1397\"},\"group\":null,\"major_label_policy\":{\"id\":\"1398\"},\"ticker\":{\"id\":\"1377\"}},\"id\":\"1376\",\"type\":\"LinearAxis\"},{\"attributes\":{\"axis_label\":\"principal Component 1\",\"coordinates\":null,\"formatter\":{\"id\":\"1394\"},\"group\":null,\"major_label_policy\":{\"id\":\"1395\"},\"ticker\":{\"id\":\"1373\"}},\"id\":\"1372\",\"type\":\"LinearAxis\"},{\"attributes\":{\"fill_alpha\":{\"value\":0.1},\"fill_color\":{\"value\":\"#e5ae38\"},\"hatch_alpha\":{\"value\":0.1},\"hatch_color\":{\"value\":\"#e5ae38\"},\"line_alpha\":{\"value\":0.1},\"line_color\":{\"value\":\"#e5ae38\"},\"size\":{\"value\":5.477225575051661},\"x\":{\"field\":\"principal Component 1\"},\"y\":{\"field\":\"principal component 2\"}},\"id\":\"1446\",\"type\":\"Scatter\"},{\"attributes\":{\"bottom_units\":\"screen\",\"coordinates\":null,\"fill_alpha\":0.5,\"fill_color\":\"lightgrey\",\"group\":null,\"left_units\":\"screen\",\"level\":\"overlay\",\"line_alpha\":1.0,\"line_color\":\"black\",\"line_dash\":[4,4],\"line_width\":2,\"right_units\":\"screen\",\"syncable\":false,\"top_units\":\"screen\"},\"id\":\"1385\",\"type\":\"BoxAnnotation\"},{\"attributes\":{\"callback\":null,\"renderers\":[{\"id\":\"1405\"},{\"id\":\"1426\"},{\"id\":\"1448\"}],\"tags\":[\"hv_created\"],\"tooltips\":[[\"class\",\"@{class}\"],[\"principal Component 1\",\"@{principal_Component_1}\"],[\"principal component 2\",\"@{principal_component_2}\"]]},\"id\":\"1360\",\"type\":\"HoverTool\"},{\"attributes\":{\"coordinates\":null,\"data_source\":{\"id\":\"1399\"},\"glyph\":{\"id\":\"1402\"},\"group\":null,\"hover_glyph\":null,\"muted_glyph\":{\"id\":\"1404\"},\"nonselection_glyph\":{\"id\":\"1403\"},\"selection_glyph\":{\"id\":\"1419\"},\"view\":{\"id\":\"1406\"}},\"id\":\"1405\",\"type\":\"GlyphRenderer\"},{\"attributes\":{\"data\":{\"class\":{\"__ndarray__\":\"AAAAAAAAAAAAAAAAAAAAAAAAAAAAAAAAAAAAAAAAAAAAAAAAAAAAAAAAAAAAAAAAAAAAAAAAAAAAAAAAAAAAAAAAAAAAAAAAAAAAAAAAAAAAAAAAAAAAAAAAAAAAAAAAAAAAAAAAAAAAAAAAAAAAAAAAAAAAAAAAAAAAAAAAAAAAAAAAAAAAAAAAAAAAAAAAAAAAAAAAAAAAAAAAAAAAAAAAAAAAAAAAAAAAAAAAAAAAAAAAAAAAAAAAAAAAAAAAAAAAAAAAAAA=\",\"dtype\":\"int32\",\"order\":\"little\",\"shape\":[50]},\"principal Component 1\":{\"__ndarray__\":\"RhG/DcgdAsCgflXa/7AAwDItSgGQ8QLArnjV6/5uAsB/OOBfNxwDwLMJAJp1kADA7VhZG9GQA8C5vPx66N4BwLvvZ05UvALA5NUzb2iCAcDHACQK0k4BwIGPWzp4ngLAbUHW4evKAcB0YBiPIx4FwOFkYiHQiQHA7cLFMQADAsDDicmkO58BwNTnRqd8hQHAE7KL2CBO/r9wMd43N7gCwDou6+IFov6/KnpNIB2jAcAlHszufzEGwHSyHOBnIP2/dG9EsmPTAcBqStBn+E//v+kJWiugagDA0BcE6nVYAcD16Z27WB8BwCQNM3l7JgLA4OURJwwoAcCyCNRTnk/9v3iUD3eZ3QTAyIxIYeyAA8Dk1TNvaIIBwAjB4qBfsAHAqgtPDPdaAMDk1TNvaIIBwJ/dMoLUfAPAVSP02UddAcA94QHLzkoCwGRzDEaD8v2/YPlj5HF2BMD6iQQfsG3/v/mHnMYlEQHAoe7lFFWaAMDS+qMb0QwDwJNmoB9/LwPALZosq3LQAcDejpZMy6UBwA==\",\"dtype\":\"float64\",\"order\":\"little\",\"shape\":[50]},\"principal component 2\":{\"__ndarray__\":\"Y+9787ku4D/9F8lWE/nkv1fYpqjuYdS/CySQjGlp4r/R0afLsZflP7a+IZP5S/g/RySoGooWsz9ueXQ10LHPP8sIOjG4hfG/hk6pnFa23L9mMKXTKCHxPze/qP2XTMQ/pKo3kBix5r+CiXLvZwbuv9CryBtaPf4/kbWrfGrHBUBbjF03Ujj4PzP+/04udeA/70k0V9Tl9j8mpZIPTofyP2HAlsG9jNs/2PKSxId67j9Bu+o4P1TfPxXWDBwFVLs/Vu1BJITCxD+1YRod23Pjv2iqjuRgBtE/aoxIfx6q4T/UGaA2hIvVP1hBWpX4JtS/QAayRej43r8Clx54QH/cP7RxJTRvQf0/wrJwma57AUCGTqmcVrbcvyTn16FhmMe/q+VDvSnr5T+GTqmcVrbcv3LEP1q7Ouy/c0SP1gm80j9PwmaGk/PdP31/28YcnwLAne8l3FML3b9kssu+Q9XfP+3eGJkvvvI/+Ywv2S8k5r9TqsG4/WjyP8+ttwhpMde/de6vZGBo8D/J7UmWeoGgPw==\",\"dtype\":\"float64\",\"order\":\"little\",\"shape\":[50]},\"principal_Component_1\":{\"__ndarray__\":\"RhG/DcgdAsCgflXa/7AAwDItSgGQ8QLArnjV6/5uAsB/OOBfNxwDwLMJAJp1kADA7VhZG9GQA8C5vPx66N4BwLvvZ05UvALA5NUzb2iCAcDHACQK0k4BwIGPWzp4ngLAbUHW4evKAcB0YBiPIx4FwOFkYiHQiQHA7cLFMQADAsDDicmkO58BwNTnRqd8hQHAE7KL2CBO/r9wMd43N7gCwDou6+IFov6/KnpNIB2jAcAlHszufzEGwHSyHOBnIP2/dG9EsmPTAcBqStBn+E//v+kJWiugagDA0BcE6nVYAcD16Z27WB8BwCQNM3l7JgLA4OURJwwoAcCyCNRTnk/9v3iUD3eZ3QTAyIxIYeyAA8Dk1TNvaIIBwAjB4qBfsAHAqgtPDPdaAMDk1TNvaIIBwJ/dMoLUfAPAVSP02UddAcA94QHLzkoCwGRzDEaD8v2/YPlj5HF2BMD6iQQfsG3/v/mHnMYlEQHAoe7lFFWaAMDS+qMb0QwDwJNmoB9/LwPALZosq3LQAcDejpZMy6UBwA==\",\"dtype\":\"float64\",\"order\":\"little\",\"shape\":[50]},\"principal_component_2\":{\"__ndarray__\":\"Y+9787ku4D/9F8lWE/nkv1fYpqjuYdS/CySQjGlp4r/R0afLsZflP7a+IZP5S/g/RySoGooWsz9ueXQ10LHPP8sIOjG4hfG/hk6pnFa23L9mMKXTKCHxPze/qP2XTMQ/pKo3kBix5r+CiXLvZwbuv9CryBtaPf4/kbWrfGrHBUBbjF03Ujj4PzP+/04udeA/70k0V9Tl9j8mpZIPTofyP2HAlsG9jNs/2PKSxId67j9Bu+o4P1TfPxXWDBwFVLs/Vu1BJITCxD+1YRod23Pjv2iqjuRgBtE/aoxIfx6q4T/UGaA2hIvVP1hBWpX4JtS/QAayRej43r8Clx54QH/cP7RxJTRvQf0/wrJwma57AUCGTqmcVrbcvyTn16FhmMe/q+VDvSnr5T+GTqmcVrbcv3LEP1q7Ouy/c0SP1gm80j9PwmaGk/PdP31/28YcnwLAne8l3FML3b9kssu+Q9XfP+3eGJkvvvI/+Ywv2S8k5r9TqsG4/WjyP8+ttwhpMde/de6vZGBo8D/J7UmWeoGgPw==\",\"dtype\":\"float64\",\"order\":\"little\",\"shape\":[50]}},\"selected\":{\"id\":\"1400\"},\"selection_policy\":{\"id\":\"1414\"}},\"id\":\"1399\",\"type\":\"ColumnDataSource\"},{\"attributes\":{\"fill_color\":{\"value\":\"#fc4f30\"},\"hatch_color\":{\"value\":\"#fc4f30\"},\"line_color\":{\"value\":\"#fc4f30\"},\"size\":{\"value\":5.477225575051661},\"x\":{\"field\":\"principal Component 1\"},\"y\":{\"field\":\"principal component 2\"}},\"id\":\"1423\",\"type\":\"Scatter\"},{\"attributes\":{\"coordinates\":null,\"data_source\":{\"id\":\"1442\"},\"glyph\":{\"id\":\"1445\"},\"group\":null,\"hover_glyph\":null,\"muted_glyph\":{\"id\":\"1447\"},\"nonselection_glyph\":{\"id\":\"1446\"},\"selection_glyph\":{\"id\":\"1465\"},\"view\":{\"id\":\"1449\"}},\"id\":\"1448\",\"type\":\"GlyphRenderer\"},{\"attributes\":{\"axis\":{\"id\":\"1376\"},\"coordinates\":null,\"dimension\":1,\"grid_line_color\":null,\"group\":null,\"ticker\":null},\"id\":\"1379\",\"type\":\"Grid\"},{\"attributes\":{\"angle\":{\"value\":0.0},\"fill_alpha\":{\"value\":1.0},\"fill_color\":{\"value\":\"#30a2da\"},\"hatch_alpha\":{\"value\":1.0},\"hatch_color\":{\"value\":\"#30a2da\"},\"hatch_scale\":{\"value\":12.0},\"hatch_weight\":{\"value\":1.0},\"line_alpha\":{\"value\":1.0},\"line_cap\":{\"value\":\"butt\"},\"line_color\":{\"value\":\"#30a2da\"},\"line_dash\":{\"value\":[]},\"line_dash_offset\":{\"value\":0},\"line_join\":{\"value\":\"bevel\"},\"line_width\":{\"value\":1},\"marker\":{\"value\":\"circle\"},\"size\":{\"value\":5.477225575051661},\"x\":{\"field\":\"principal Component 1\"},\"y\":{\"field\":\"principal component 2\"}},\"id\":\"1419\",\"type\":\"Scatter\"},{\"attributes\":{},\"id\":\"1400\",\"type\":\"Selection\"},{\"attributes\":{\"source\":{\"id\":\"1420\"}},\"id\":\"1427\",\"type\":\"CDSView\"},{\"attributes\":{\"fill_color\":{\"value\":\"#e5ae38\"},\"hatch_color\":{\"value\":\"#e5ae38\"},\"line_color\":{\"value\":\"#e5ae38\"},\"size\":{\"value\":5.477225575051661},\"x\":{\"field\":\"principal Component 1\"},\"y\":{\"field\":\"principal component 2\"}},\"id\":\"1445\",\"type\":\"Scatter\"},{\"attributes\":{\"coordinates\":null,\"group\":null,\"text_color\":\"black\",\"text_font_size\":\"12pt\"},\"id\":\"1364\",\"type\":\"Title\"},{\"attributes\":{\"end\":3.5698545102352757,\"reset_end\":3.5698545102352757,\"reset_start\":-3.0348831212643534,\"start\":-3.0348831212643534,\"tags\":[[[\"principal Component 1\",\"principal Component 1\",null]]]},\"id\":\"1358\",\"type\":\"Range1d\"},{\"attributes\":{\"source\":{\"id\":\"1399\"}},\"id\":\"1406\",\"type\":\"CDSView\"},{\"attributes\":{},\"id\":\"1398\",\"type\":\"AllLabels\"},{\"attributes\":{\"label\":{\"value\":\"2\"},\"renderers\":[{\"id\":\"1448\"}]},\"id\":\"1464\",\"type\":\"LegendItem\"},{\"attributes\":{\"label\":{\"value\":\"1\"},\"renderers\":[{\"id\":\"1426\"}]},\"id\":\"1440\",\"type\":\"LegendItem\"},{\"attributes\":{},\"id\":\"1394\",\"type\":\"BasicTickFormatter\"},{\"attributes\":{},\"id\":\"1437\",\"type\":\"UnionRenderers\"},{\"attributes\":{},\"id\":\"1443\",\"type\":\"Selection\"},{\"attributes\":{\"fill_alpha\":{\"value\":0.2},\"fill_color\":{\"value\":\"#e5ae38\"},\"hatch_alpha\":{\"value\":0.2},\"hatch_color\":{\"value\":\"#e5ae38\"},\"line_alpha\":{\"value\":0.2},\"line_color\":{\"value\":\"#e5ae38\"},\"size\":{\"value\":5.477225575051661},\"x\":{\"field\":\"principal Component 1\"},\"y\":{\"field\":\"principal component 2\"}},\"id\":\"1447\",\"type\":\"Scatter\"},{\"attributes\":{\"end\":3.2604144520280918,\"reset_end\":3.2604144520280918,\"reset_start\":-3.1961060534153827,\"start\":-3.1961060534153827,\"tags\":[[[\"principal component 2\",\"principal component 2\",null]]]},\"id\":\"1359\",\"type\":\"Range1d\"},{\"attributes\":{},\"id\":\"1397\",\"type\":\"BasicTickFormatter\"},{\"attributes\":{\"fill_alpha\":{\"value\":0.1},\"fill_color\":{\"value\":\"#fc4f30\"},\"hatch_alpha\":{\"value\":0.1},\"hatch_color\":{\"value\":\"#fc4f30\"},\"line_alpha\":{\"value\":0.1},\"line_color\":{\"value\":\"#fc4f30\"},\"size\":{\"value\":5.477225575051661},\"x\":{\"field\":\"principal Component 1\"},\"y\":{\"field\":\"principal component 2\"}},\"id\":\"1424\",\"type\":\"Scatter\"},{\"attributes\":{},\"id\":\"1380\",\"type\":\"SaveTool\"},{\"attributes\":{},\"id\":\"1414\",\"type\":\"UnionRenderers\"},{\"attributes\":{},\"id\":\"1381\",\"type\":\"PanTool\"},{\"attributes\":{},\"id\":\"1377\",\"type\":\"BasicTicker\"},{\"attributes\":{\"margin\":[5,5,5,5],\"name\":\"HSpacer02298\",\"sizing_mode\":\"stretch_width\"},\"id\":\"1357\",\"type\":\"Spacer\"},{\"attributes\":{},\"id\":\"1384\",\"type\":\"ResetTool\"},{\"attributes\":{\"children\":[{\"id\":\"1357\"},{\"id\":\"1363\"},{\"id\":\"1592\"}],\"margin\":[0,0,0,0],\"name\":\"Row02294\",\"tags\":[\"embedded\"]},\"id\":\"1356\",\"type\":\"Row\"},{\"attributes\":{\"coordinates\":null,\"data_source\":{\"id\":\"1420\"},\"glyph\":{\"id\":\"1423\"},\"group\":null,\"hover_glyph\":null,\"muted_glyph\":{\"id\":\"1425\"},\"nonselection_glyph\":{\"id\":\"1424\"},\"selection_glyph\":{\"id\":\"1441\"},\"view\":{\"id\":\"1427\"}},\"id\":\"1426\",\"type\":\"GlyphRenderer\"},{\"attributes\":{},\"id\":\"1382\",\"type\":\"WheelZoomTool\"},{\"attributes\":{},\"id\":\"1368\",\"type\":\"LinearScale\"},{\"attributes\":{\"angle\":{\"value\":0.0},\"fill_alpha\":{\"value\":1.0},\"fill_color\":{\"value\":\"#e5ae38\"},\"hatch_alpha\":{\"value\":1.0},\"hatch_color\":{\"value\":\"#e5ae38\"},\"hatch_scale\":{\"value\":12.0},\"hatch_weight\":{\"value\":1.0},\"line_alpha\":{\"value\":1.0},\"line_cap\":{\"value\":\"butt\"},\"line_color\":{\"value\":\"#e5ae38\"},\"line_dash\":{\"value\":[]},\"line_dash_offset\":{\"value\":0},\"line_join\":{\"value\":\"bevel\"},\"line_width\":{\"value\":1},\"marker\":{\"value\":\"circle\"},\"size\":{\"value\":5.477225575051661},\"x\":{\"field\":\"principal Component 1\"},\"y\":{\"field\":\"principal component 2\"}},\"id\":\"1465\",\"type\":\"Scatter\"},{\"attributes\":{},\"id\":\"1421\",\"type\":\"Selection\"},{\"attributes\":{\"fill_color\":{\"value\":\"#30a2da\"},\"hatch_color\":{\"value\":\"#30a2da\"},\"line_color\":{\"value\":\"#30a2da\"},\"size\":{\"value\":5.477225575051661},\"x\":{\"field\":\"principal Component 1\"},\"y\":{\"field\":\"principal component 2\"}},\"id\":\"1402\",\"type\":\"Scatter\"},{\"attributes\":{\"fill_alpha\":{\"value\":0.2},\"fill_color\":{\"value\":\"#fc4f30\"},\"hatch_alpha\":{\"value\":0.2},\"hatch_color\":{\"value\":\"#fc4f30\"},\"line_alpha\":{\"value\":0.2},\"line_color\":{\"value\":\"#fc4f30\"},\"size\":{\"value\":5.477225575051661},\"x\":{\"field\":\"principal Component 1\"},\"y\":{\"field\":\"principal component 2\"}},\"id\":\"1425\",\"type\":\"Scatter\"},{\"attributes\":{\"overlay\":{\"id\":\"1385\"}},\"id\":\"1383\",\"type\":\"BoxZoomTool\"},{\"attributes\":{},\"id\":\"1395\",\"type\":\"AllLabels\"},{\"attributes\":{\"margin\":[5,5,5,5],\"name\":\"HSpacer02299\",\"sizing_mode\":\"stretch_width\"},\"id\":\"1592\",\"type\":\"Spacer\"},{\"attributes\":{\"angle\":{\"value\":0.0},\"fill_alpha\":{\"value\":1.0},\"fill_color\":{\"value\":\"#fc4f30\"},\"hatch_alpha\":{\"value\":1.0},\"hatch_color\":{\"value\":\"#fc4f30\"},\"hatch_scale\":{\"value\":12.0},\"hatch_weight\":{\"value\":1.0},\"line_alpha\":{\"value\":1.0},\"line_cap\":{\"value\":\"butt\"},\"line_color\":{\"value\":\"#fc4f30\"},\"line_dash\":{\"value\":[]},\"line_dash_offset\":{\"value\":0},\"line_join\":{\"value\":\"bevel\"},\"line_width\":{\"value\":1},\"marker\":{\"value\":\"circle\"},\"size\":{\"value\":5.477225575051661},\"x\":{\"field\":\"principal Component 1\"},\"y\":{\"field\":\"principal component 2\"}},\"id\":\"1441\",\"type\":\"Scatter\"},{\"attributes\":{\"data\":{\"class\":{\"__ndarray__\":\"AgAAAAIAAAACAAAAAgAAAAIAAAACAAAAAgAAAAIAAAACAAAAAgAAAAIAAAACAAAAAgAAAAIAAAACAAAAAgAAAAIAAAACAAAAAgAAAAIAAAACAAAAAgAAAAIAAAACAAAAAgAAAAIAAAACAAAAAgAAAAIAAAACAAAAAgAAAAIAAAACAAAAAgAAAAIAAAACAAAAAgAAAAIAAAACAAAAAgAAAAIAAAACAAAAAgAAAAIAAAACAAAAAgAAAAIAAAA=\",\"dtype\":\"int32\",\"order\":\"little\",\"shape\":[47]},\"principal Component 1\":{\"__ndarray__\":\"dJicP/Wp8T/qdLjqfHDnP0tUdjeu3/M/kX2nUXn15z+Bt9eWSwfsPwPqCkTLn+c/a4kX1wP06z/sYaNJSxH0PxhwyrRZu/U/ZSqW1lWi2z+mboqoZcrwP2VoZCMRkP0/XaOtkJqmAUCwkwP82gT3P8Oof1zh4v0/dEK5SJgIBkDmZzhbjmwCQPUm68uNAwBAI09oqvMjAkBti3vYw9r1P60QOb/Elfk/PK6UReUl/j8b0QQIDXj5P3odkBhdivc/Q/YnSsB/A0AyhisDH3kKQJfn9rPvUgBAOC4taDwvB0BDqLnnkUT7P6oJnj3aUv8/H9Lu7wVR8D+f2hYHfpP8P4EbVl0h1v0/ivhsDuZ7A0A1tjE3VocCQGstB9QUxP0/kU42KVhoBkC0+a/eUEj5P/DOTXR+jfU/PgUQICao/T8PDMQGFyEAQLtqwqkqc/4/Og5TGLJYAEC7eb2NdgMAQPHgNY2o7f0/+IJComFV+D8O9OTEsgX2Pw==\",\"dtype\":\"float64\",\"order\":\"little\",\"shape\":[47]},\"principal component 2\":{\"__ndarray__\":\"0Xb2/Z2e6z8YPDfKBSjjP9PNPSGgrOM/sV+rWRnr6D9dOXqk51HgP5VBqiETwtk/U57yIJwL0D8ziLBClya1vzsteShkC9U/EQg+Gkhd6z+6k6QJ17XgP4csy2Xw5Os/BMTpFji+4T92lDOr+pqpv/REGSLnotI/mgetLdY66T9KO0mDhTXaP7GQnq/nKee/u42XATu+/j8yoQKF0jTmP2h9L85taNu/aKdDi22E2j8xfGgVRqrlPzM3rDJONNA/fjlsMT10BECFkaQTDFhjv0B0hSJpCe0/YJKR42l12T+QWt+y8znwP5yAK36oDfA/daj7cmzHsD/dvEvBKb3Iv4zkXX2vxeE/vl7ipF+Szz8h4TWwbAIFQIaBO1NYo8e/QSs1XS0I6z+kj2oE2yjxPx38A+M9Bts/uaTAq3yE5T/Y+zteX4jjP9p2Ilnq8+U/uSJfoH+r6z87eOdp3MbwP/VDMiongNg/eNtvjSkT0T8gLdG5BEPwPw==\",\"dtype\":\"float64\",\"order\":\"little\",\"shape\":[47]},\"principal_Component_1\":{\"__ndarray__\":\"dJicP/Wp8T/qdLjqfHDnP0tUdjeu3/M/kX2nUXn15z+Bt9eWSwfsPwPqCkTLn+c/a4kX1wP06z/sYaNJSxH0PxhwyrRZu/U/ZSqW1lWi2z+mboqoZcrwP2VoZCMRkP0/XaOtkJqmAUCwkwP82gT3P8Oof1zh4v0/dEK5SJgIBkDmZzhbjmwCQPUm68uNAwBAI09oqvMjAkBti3vYw9r1P60QOb/Elfk/PK6UReUl/j8b0QQIDXj5P3odkBhdivc/Q/YnSsB/A0AyhisDH3kKQJfn9rPvUgBAOC4taDwvB0BDqLnnkUT7P6oJnj3aUv8/H9Lu7wVR8D+f2hYHfpP8P4EbVl0h1v0/ivhsDuZ7A0A1tjE3VocCQGstB9QUxP0/kU42KVhoBkC0+a/eUEj5P/DOTXR+jfU/PgUQICao/T8PDMQGFyEAQLtqwqkqc/4/Og5TGLJYAEC7eb2NdgMAQPHgNY2o7f0/+IJComFV+D8O9OTEsgX2Pw==\",\"dtype\":\"float64\",\"order\":\"little\",\"shape\":[47]},\"principal_component_2\":{\"__ndarray__\":\"0Xb2/Z2e6z8YPDfKBSjjP9PNPSGgrOM/sV+rWRnr6D9dOXqk51HgP5VBqiETwtk/U57yIJwL0D8ziLBClya1vzsteShkC9U/EQg+Gkhd6z+6k6QJ17XgP4csy2Xw5Os/BMTpFji+4T92lDOr+pqpv/REGSLnotI/mgetLdY66T9KO0mDhTXaP7GQnq/nKee/u42XATu+/j8yoQKF0jTmP2h9L85taNu/aKdDi22E2j8xfGgVRqrlPzM3rDJONNA/fjlsMT10BECFkaQTDFhjv0B0hSJpCe0/YJKR42l12T+QWt+y8znwP5yAK36oDfA/daj7cmzHsD/dvEvBKb3Iv4zkXX2vxeE/vl7ipF+Szz8h4TWwbAIFQIaBO1NYo8e/QSs1XS0I6z+kj2oE2yjxPx38A+M9Bts/uaTAq3yE5T/Y+zteX4jjP9p2Ilnq8+U/uSJfoH+r6z87eOdp3MbwP/VDMiongNg/eNtvjSkT0T8gLdG5BEPwPw==\",\"dtype\":\"float64\",\"order\":\"little\",\"shape\":[47]}},\"selected\":{\"id\":\"1443\"},\"selection_policy\":{\"id\":\"1461\"}},\"id\":\"1442\",\"type\":\"ColumnDataSource\"},{\"attributes\":{\"below\":[{\"id\":\"1372\"}],\"center\":[{\"id\":\"1375\"},{\"id\":\"1379\"}],\"height\":300,\"left\":[{\"id\":\"1376\"}],\"margin\":[5,5,5,5],\"min_border_bottom\":10,\"min_border_left\":10,\"min_border_right\":10,\"min_border_top\":10,\"renderers\":[{\"id\":\"1405\"},{\"id\":\"1426\"},{\"id\":\"1448\"}],\"right\":[{\"id\":\"1417\"}],\"sizing_mode\":\"fixed\",\"title\":{\"id\":\"1364\"},\"toolbar\":{\"id\":\"1386\"},\"width\":700,\"x_range\":{\"id\":\"1358\"},\"x_scale\":{\"id\":\"1368\"},\"y_range\":{\"id\":\"1359\"},\"y_scale\":{\"id\":\"1370\"}},\"id\":\"1363\",\"subtype\":\"Figure\",\"type\":\"Plot\"},{\"attributes\":{\"source\":{\"id\":\"1442\"}},\"id\":\"1449\",\"type\":\"CDSView\"},{\"attributes\":{},\"id\":\"1373\",\"type\":\"BasicTicker\"},{\"attributes\":{\"fill_alpha\":{\"value\":0.1},\"fill_color\":{\"value\":\"#30a2da\"},\"hatch_alpha\":{\"value\":0.1},\"hatch_color\":{\"value\":\"#30a2da\"},\"line_alpha\":{\"value\":0.1},\"line_color\":{\"value\":\"#30a2da\"},\"size\":{\"value\":5.477225575051661},\"x\":{\"field\":\"principal Component 1\"},\"y\":{\"field\":\"principal component 2\"}},\"id\":\"1403\",\"type\":\"Scatter\"},{\"attributes\":{},\"id\":\"1461\",\"type\":\"UnionRenderers\"},{\"attributes\":{\"click_policy\":\"mute\",\"coordinates\":null,\"group\":null,\"items\":[{\"id\":\"1418\"},{\"id\":\"1440\"},{\"id\":\"1464\"}],\"location\":[0,0],\"title\":\"class\"},\"id\":\"1417\",\"type\":\"Legend\"},{\"attributes\":{\"axis\":{\"id\":\"1372\"},\"coordinates\":null,\"grid_line_color\":null,\"group\":null,\"ticker\":null},\"id\":\"1375\",\"type\":\"Grid\"}],\"root_ids\":[\"1356\"]},\"title\":\"Bokeh Application\",\"version\":\"2.4.1\"}};\n",
       "    var render_items = [{\"docid\":\"49cb204e-2a81-45b7-92bf-62e87e0afeb0\",\"root_ids\":[\"1356\"],\"roots\":{\"1356\":\"e9e9575e-57ce-4e11-b7cf-029fe792f22b\"}}];\n",
       "    root.Bokeh.embed.embed_items_notebook(docs_json, render_items);\n",
       "  }\n",
       "  if (root.Bokeh !== undefined && root.Bokeh.Panel !== undefined) {\n",
       "    embed_document(root);\n",
       "  } else {\n",
       "    var attempts = 0;\n",
       "    var timer = setInterval(function(root) {\n",
       "      if (root.Bokeh !== undefined && root.Bokeh.Panel !== undefined) {\n",
       "        clearInterval(timer);\n",
       "        embed_document(root);\n",
       "      } else if (document.readyState == \"complete\") {\n",
       "        attempts++;\n",
       "        if (attempts > 200) {\n",
       "          clearInterval(timer);\n",
       "          console.log(\"Bokeh: ERROR: Unable to run BokehJS code because BokehJS library is missing\");\n",
       "        }\n",
       "      }\n",
       "    }, 25, root)\n",
       "  }\n",
       "})(window);</script>"
      ],
      "text/plain": [
       ":NdOverlay   [class]\n",
       "   :Scatter   [principal Component 1]   (principal component 2,class)"
      ]
     },
     "execution_count": 38,
     "metadata": {
      "application/vnd.holoviews_exec.v0+json": {
       "id": "1356"
      }
     },
     "output_type": "execute_result"
    }
   ],
   "source": [
    "df_iris_pca.hvplot.scatter(\n",
    "    x=\"principal Component 1\",\n",
    "    y=\"principal component 2\",\n",
    "    hover_cols=[\"class\"],\n",
    "    by=\"class\",\n",
    ")"
   ]
  },
  {
   "cell_type": "code",
   "execution_count": null,
   "id": "0056588d",
   "metadata": {},
   "outputs": [],
   "source": []
  }
 ],
 "metadata": {
  "kernelspec": {
   "display_name": "mlenv",
   "language": "python",
   "name": "mlenv"
  },
  "language_info": {
   "codemirror_mode": {
    "name": "ipython",
    "version": 3
   },
   "file_extension": ".py",
   "mimetype": "text/x-python",
   "name": "python",
   "nbconvert_exporter": "python",
   "pygments_lexer": "ipython3",
   "version": "3.7.11"
  }
 },
 "nbformat": 4,
 "nbformat_minor": 5
}
